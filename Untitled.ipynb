{
 "cells": [
  {
   "cell_type": "code",
   "execution_count": null,
   "id": "2f863770-bc71-4760-84a4-552f3e7758e8",
   "metadata": {},
   "outputs": [],
   "source": []
  }
 ],
 "metadata": {
  "kernelspec": {
   "display_name": "Clojure (clojupyter-0.4.341341)",
   "language": "clojure",
   "name": "clojupyter-0.4.341341"
  },
  "language_info": {
   "file_extension": ".clj",
   "mimetype": "text/x-clojure",
   "name": "clojure",
   "version": "1.11.3"
  }
 },
 "nbformat": 4,
 "nbformat_minor": 5
}
